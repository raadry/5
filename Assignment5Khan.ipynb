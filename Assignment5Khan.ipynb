{
 "cells": [
  {
   "cell_type": "code",
   "execution_count": null,
   "id": "666a879d",
   "metadata": {},
   "outputs": [
    {
     "name": "stdout",
     "output_type": "stream",
     "text": [
      "Enter 1 for new entry.\n",
      "Enter 2 to look up student.\n",
      "Enter 0 to exit.\n",
      "Enter value: 2\n",
      "Enter student name: John Cena\n",
      "Weighted average:  39.0 \n",
      "\n",
      "Enter 1 for new entry.\n",
      "Enter 2 to look up student.\n",
      "Enter 0 to exit.\n",
      "Enter value: 0\n",
      "Weighted average:  10.75 \n",
      "\n",
      "Enter 1 for new entry.\n",
      "Enter 2 to look up student.\n",
      "Enter 0 to exit.\n"
     ]
    }
   ],
   "source": [
    "\n",
    "\n",
    "select = 1\n",
    "\n",
    "flag = False\n",
    "\n",
    "\n",
    "print(\"Enter 1 for new entry.\\nEnter 2 to look up student.\\nEnter 0 to exit.\")\n",
    "select = input(\"Enter value: \")\n",
    "\n",
    "while select not in ['1','2','0']:\n",
    "    select = input(\"Invalid. Try again: \")\n",
    "    \n",
    "    \n",
    "while select=='1':\n",
    "    grades = open('grades.txt','a')\n",
    "\n",
    "    name = input(\"Enter student name: \")\n",
    "    aavg = input(\"Enter assignment average: \")\n",
    "    mid = input(\"Enter Midterm grade: \")\n",
    "    proj = input(\"Enter project grade: \")\n",
    "    final = input(\"Enter final exam grade: \")\n",
    "\n",
    "    grades.write(name+\"\\n\")\n",
    "    grades.write(aavg+\"\\n\")\n",
    "    grades.write(mid+\"\\n\")\n",
    "    grades.write(proj+\"\\n\")\n",
    "    grades.write(final+\"\\n\")\n",
    "    \n",
    "    print(\"Enter 1 for new entry.\\nEnter 2 to look up student.\\nEnter 0 to exit.\")\n",
    "    select = input(\"Enter value: \")\n",
    "    while select not in ['1','2','0']:\n",
    "        select = input(\"Invalid. Try again: \")\n",
    "    grades.close()\n",
    "\n",
    "\n",
    "       \n",
    "        \n",
    "while select =='2':\n",
    "    \n",
    "    namesearch = input(\"Enter student name: \")\n",
    "    grades = open('grades.txt','r') \n",
    "    for namecheck in grades: \n",
    "        if namecheck.rstrip()==namesearch:\n",
    "            flag = True\n",
    "\n",
    "            aavg = float(grades.readline().rstrip())\n",
    "            mid = float(grades.readline().rstrip())\n",
    "            proj = float(grades.readline().rstrip())\n",
    "            final = float(grades.readline().rstrip())\n",
    "\n",
    "            wavg = (aavg+mid+proj+final)/4\n",
    "\n",
    "            print(\"Weighted average: \", wavg, \"\\n\")\n",
    "            print(\"Enter 1 for new entry.\\nEnter 2 to look up student.\\nEnter 0 to exit.\")\n",
    "            select = input(\"Enter value: \")\n",
    "            \n",
    "            while select not in ['1','2','0']:\n",
    "                select = input(\"Invalid. Try again: \")        \n",
    "    \n",
    "\n",
    "            \n",
    "            \n",
    "    grades.close()\n",
    "\n"
   ]
  },
  {
   "cell_type": "code",
   "execution_count": null,
   "id": "cf8da798",
   "metadata": {},
   "outputs": [],
   "source": []
  },
  {
   "cell_type": "code",
   "execution_count": null,
   "id": "a86c27d2",
   "metadata": {},
   "outputs": [],
   "source": []
  }
 ],
 "metadata": {
  "kernelspec": {
   "display_name": "Python 3",
   "language": "python",
   "name": "python3"
  },
  "language_info": {
   "codemirror_mode": {
    "name": "ipython",
    "version": 3
   },
   "file_extension": ".py",
   "mimetype": "text/x-python",
   "name": "python",
   "nbconvert_exporter": "python",
   "pygments_lexer": "ipython3",
   "version": "3.6.13"
  }
 },
 "nbformat": 4,
 "nbformat_minor": 5
}
